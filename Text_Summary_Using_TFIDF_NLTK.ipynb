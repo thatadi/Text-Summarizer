{
  "nbformat": 4,
  "nbformat_minor": 0,
  "metadata": {
    "colab": {
      "provenance": [],
      "authorship_tag": "ABX9TyMqovvZ6BIxZK1IKIRDaHeQ",
      "include_colab_link": true
    },
    "kernelspec": {
      "name": "python3",
      "display_name": "Python 3"
    },
    "language_info": {
      "name": "python"
    }
  },
  "cells": [
    {
      "cell_type": "markdown",
      "metadata": {
        "id": "view-in-github",
        "colab_type": "text"
      },
      "source": [
        "<a href=\"https://colab.research.google.com/github/thatadi/Text-Summarizer/blob/main/Text_Summary_Using_TFIDF_NLTK.ipynb\" target=\"_parent\"><img src=\"https://colab.research.google.com/assets/colab-badge.svg\" alt=\"Open In Colab\"/></a>"
      ]
    },
    {
      "cell_type": "code",
      "execution_count": null,
      "metadata": {
        "colab": {
          "base_uri": "https://localhost:8080/"
        },
        "id": "1YRIwu2swhEe",
        "outputId": "7090f59e-68d5-41b8-8144-cb9718ba1c44"
      },
      "outputs": [
        {
          "output_type": "stream",
          "name": "stderr",
          "text": [
            "[nltk_data] Downloading package punkt to /root/nltk_data...\n",
            "[nltk_data]   Package punkt is already up-to-date!\n"
          ]
        },
        {
          "output_type": "execute_result",
          "data": {
            "text/plain": [
              "True"
            ]
          },
          "metadata": {},
          "execution_count": 202
        }
      ],
      "source": [
        "# Import essential libraries\n",
        "\n",
        "import numpy as np\n",
        "import pandas as pd\n",
        "from sklearn.feature_extraction.text import TfidfVectorizer\n",
        "import nltk\n",
        "nltk.download('punkt')"
      ]
    },
    {
      "cell_type": "code",
      "source": [
        "# Text to be summarized\n",
        "\n",
        "text=\"\"\"The sun rises above the horizon, bringing a new day. The sky is painted with shades of blue as the day unfolds. Birds sing their morning songs, a melodious symphony. Nature awakens with the gentle touch of the sun's rays.\n",
        "\n",
        "Fields stretch to the edges of the landscape, covered in a blanket of green. Trees stand tall and proud, their leaves rustling in the breeze. The air is fresh and invigorating, a promise of a new beginning. Each day holds the potential for something extraordinary.\n",
        "\n",
        "As the sun climbs higher, the world comes alive with activity. People start their daily routines, bustling with energy. The city streets buzz with the sounds of cars and chatter. Life in the modern world is fast-paced and ever-changing.\n",
        "\n",
        "Yet, in the midst of this bustling life, there is tranquility to be found. Parks offer a sanctuary, a moment of respite. The laughter of children playing, the quiet conversations of couples, and the occasional jogger passing by create a harmonious blend of city life and nature.\n",
        "\n",
        "In the heart of the city, towering buildings reach for the sky. Architectural marvels stand as a testament to human ingenuity. Each structure tells a story, a glimpse into the past and a vision for the future. Skyscrapers touch the clouds, a symbol of progress and aspiration.\n",
        "\n",
        "In contrast, quaint villages tell a different tale. Cobblestone streets wind through charming houses with ivy-covered walls. History whispers through the aged bricks and narrow alleys. Life here is simpler, yet rich in traditions and community.\n",
        "\n",
        "The sea extends to the horizon, a vast expanse of blue. Waves crash against the shore, a rhythmic dance. The beach is a place of solace, where the sand meets the sea and the wind carries away worries. The sound of waves is a soothing lullaby.\n",
        "\n",
        "Mountains reach towards the heavens, their peaks touching the sky. Majestic and serene, they stand as ancient sentinels. The crisp mountain air fills the lungs, a reminder of the beauty of the natural world. Hiking trails beckon, offering a journey into the heart of nature.\n",
        "\n",
        "And in the quiet of the night, the stars light up the sky. A celestial display unfolds, a canvas of twinkling lights. The moon casts its glow, bathing the world in silver light. The universe is vast and mysterious, a source of wonder and contemplation.\n",
        "\n",
        "Life is a beautiful tapestry, woven with moments of joy and sorrow, tranquility and excitement. Each day is a new thread, adding to the intricate pattern. And as we navigate this journey, let us cherish the beauty that surrounds us, for in the tapestry of life, every thread counts.\"\"\"\n"
      ],
      "metadata": {
        "id": "By3Bpv2ZxIKN"
      },
      "execution_count": null,
      "outputs": []
    },
    {
      "cell_type": "code",
      "source": [
        "# Convert the text to lowercase . If your text has special characters process the text and remove those as well.\n",
        "text=text.lower()"
      ],
      "metadata": {
        "id": "54eh1PHmC_3D"
      },
      "execution_count": null,
      "outputs": []
    },
    {
      "cell_type": "code",
      "source": [
        "# Initializing tfidvectorizer\n",
        "# Stop words are words like 'the ,and , a' etc which are to be ignored while calculations as they are irrelevant.\n",
        "# If your text is of a different language change the parameter 'english' (refer to sklearn documentation)\n",
        "tfidf=TfidfVectorizer(stop_words='english')\n",
        "value_raw=tfidf.fit_transform([text])\n",
        "# convert tfid values to an array\n",
        "values=value_raw.toarray()[0]\n",
        "values"
      ],
      "metadata": {
        "colab": {
          "base_uri": "https://localhost:8080/"
        },
        "id": "RfG8sQ3ox18y",
        "outputId": "5ff375df-7d62-4e1c-e8b7-e725e8497aba"
      },
      "execution_count": null,
      "outputs": [
        {
          "output_type": "execute_result",
          "data": {
            "text/plain": [
              "array([0.05089866, 0.05089866, 0.05089866, 0.10179732, 0.05089866,\n",
              "       0.05089866, 0.05089866, 0.05089866, 0.05089866, 0.05089866,\n",
              "       0.05089866, 0.05089866, 0.05089866, 0.05089866, 0.10179732,\n",
              "       0.05089866, 0.05089866, 0.05089866, 0.05089866, 0.05089866,\n",
              "       0.10179732, 0.05089866, 0.05089866, 0.05089866, 0.05089866,\n",
              "       0.10179732, 0.05089866, 0.05089866, 0.05089866, 0.05089866,\n",
              "       0.05089866, 0.05089866, 0.05089866, 0.05089866, 0.05089866,\n",
              "       0.05089866, 0.05089866, 0.15269598, 0.05089866, 0.05089866,\n",
              "       0.05089866, 0.05089866, 0.05089866, 0.05089866, 0.05089866,\n",
              "       0.05089866, 0.05089866, 0.05089866, 0.10179732, 0.05089866,\n",
              "       0.05089866, 0.05089866, 0.05089866, 0.05089866, 0.20359464,\n",
              "       0.05089866, 0.05089866, 0.05089866, 0.05089866, 0.05089866,\n",
              "       0.05089866, 0.05089866, 0.05089866, 0.05089866, 0.05089866,\n",
              "       0.05089866, 0.05089866, 0.05089866, 0.05089866, 0.05089866,\n",
              "       0.05089866, 0.05089866, 0.05089866, 0.10179732, 0.05089866,\n",
              "       0.05089866, 0.05089866, 0.05089866, 0.05089866, 0.10179732,\n",
              "       0.05089866, 0.05089866, 0.05089866, 0.05089866, 0.05089866,\n",
              "       0.05089866, 0.05089866, 0.10179732, 0.05089866, 0.05089866,\n",
              "       0.05089866, 0.05089866, 0.05089866, 0.30539196, 0.10179732,\n",
              "       0.05089866, 0.05089866, 0.05089866, 0.05089866, 0.05089866,\n",
              "       0.05089866, 0.05089866, 0.05089866, 0.05089866, 0.05089866,\n",
              "       0.05089866, 0.05089866, 0.05089866, 0.05089866, 0.05089866,\n",
              "       0.05089866, 0.05089866, 0.05089866, 0.15269598, 0.05089866,\n",
              "       0.15269598, 0.05089866, 0.05089866, 0.05089866, 0.05089866,\n",
              "       0.05089866, 0.05089866, 0.05089866, 0.05089866, 0.05089866,\n",
              "       0.05089866, 0.05089866, 0.05089866, 0.05089866, 0.05089866,\n",
              "       0.05089866, 0.05089866, 0.05089866, 0.05089866, 0.05089866,\n",
              "       0.10179732, 0.05089866, 0.10179732, 0.05089866, 0.05089866,\n",
              "       0.05089866, 0.05089866, 0.05089866, 0.05089866, 0.05089866,\n",
              "       0.05089866, 0.05089866, 0.10179732, 0.05089866, 0.05089866,\n",
              "       0.05089866, 0.05089866, 0.05089866, 0.05089866, 0.05089866,\n",
              "       0.20359464, 0.05089866, 0.05089866, 0.05089866, 0.05089866,\n",
              "       0.05089866, 0.05089866, 0.05089866, 0.05089866, 0.15269598,\n",
              "       0.05089866, 0.05089866, 0.05089866, 0.10179732, 0.05089866,\n",
              "       0.05089866, 0.15269598, 0.05089866, 0.05089866, 0.05089866,\n",
              "       0.05089866, 0.05089866, 0.10179732, 0.05089866, 0.05089866,\n",
              "       0.05089866, 0.10179732, 0.10179732, 0.05089866, 0.05089866,\n",
              "       0.05089866, 0.05089866, 0.10179732, 0.05089866, 0.05089866,\n",
              "       0.10179732, 0.05089866, 0.10179732, 0.05089866, 0.05089866,\n",
              "       0.05089866, 0.10179732, 0.05089866, 0.10179732, 0.05089866,\n",
              "       0.20359464, 0.05089866, 0.05089866])"
            ]
          },
          "metadata": {},
          "execution_count": 205
        }
      ]
    },
    {
      "cell_type": "code",
      "source": [
        "# gives feature names\n",
        "words=tfidf.get_feature_names_out()\n",
        "words"
      ],
      "metadata": {
        "colab": {
          "base_uri": "https://localhost:8080/"
        },
        "id": "1EiT8vUg0ICL",
        "outputId": "96aba1e7-30de-46e3-d588-e84585aed325"
      },
      "execution_count": null,
      "outputs": [
        {
          "output_type": "execute_result",
          "data": {
            "text/plain": [
              "array(['activity', 'adding', 'aged', 'air', 'alive', 'alleys', 'ancient',\n",
              "       'architectural', 'aspiration', 'awakens', 'away', 'bathing',\n",
              "       'beach', 'beautiful', 'beauty', 'beckon', 'beginning', 'birds',\n",
              "       'blanket', 'blend', 'blue', 'breeze', 'bricks', 'bringing',\n",
              "       'buildings', 'bustling', 'buzz', 'canvas', 'carries', 'cars',\n",
              "       'casts', 'celestial', 'changing', 'charming', 'chatter', 'cherish',\n",
              "       'children', 'city', 'climbs', 'clouds', 'cobblestone', 'comes',\n",
              "       'community', 'contemplation', 'contrast', 'conversations',\n",
              "       'counts', 'couples', 'covered', 'crash', 'create', 'crisp',\n",
              "       'daily', 'dance', 'day', 'different', 'display', 'edges', 'energy',\n",
              "       'excitement', 'expanse', 'extends', 'extraordinary', 'fast',\n",
              "       'fields', 'fills', 'fresh', 'future', 'gentle', 'glimpse', 'glow',\n",
              "       'green', 'harmonious', 'heart', 'heavens', 'higher', 'hiking',\n",
              "       'history', 'holds', 'horizon', 'houses', 'human', 'ingenuity',\n",
              "       'intricate', 'invigorating', 'ivy', 'jogger', 'journey', 'joy',\n",
              "       'landscape', 'laughter', 'leaves', 'let', 'life', 'light',\n",
              "       'lights', 'lullaby', 'lungs', 'majestic', 'marvels', 'meets',\n",
              "       'melodious', 'midst', 'modern', 'moment', 'moments', 'moon',\n",
              "       'morning', 'mountain', 'mountains', 'mysterious', 'narrow',\n",
              "       'natural', 'nature', 'navigate', 'new', 'night', 'occasional',\n",
              "       'offer', 'offering', 'paced', 'painted', 'parks', 'passing',\n",
              "       'past', 'pattern', 'peaks', 'people', 'place', 'playing',\n",
              "       'potential', 'progress', 'promise', 'proud', 'quaint', 'quiet',\n",
              "       'rays', 'reach', 'reminder', 'respite', 'rhythmic', 'rich',\n",
              "       'rises', 'routines', 'rustling', 'sanctuary', 'sand', 'sea',\n",
              "       'sentinels', 'serene', 'shades', 'shore', 'silver', 'simpler',\n",
              "       'sing', 'sky', 'skyscrapers', 'solace', 'songs', 'soothing',\n",
              "       'sorrow', 'sound', 'sounds', 'source', 'stand', 'stars', 'start',\n",
              "       'story', 'streets', 'stretch', 'structure', 'sun', 'surrounds',\n",
              "       'symbol', 'symphony', 'tale', 'tall', 'tapestry', 'tell', 'tells',\n",
              "       'testament', 'thread', 'touch', 'touching', 'towering',\n",
              "       'traditions', 'trails', 'tranquility', 'trees', 'twinkling',\n",
              "       'unfolds', 'universe', 'vast', 'villages', 'vision', 'walls',\n",
              "       'waves', 'whispers', 'wind', 'wonder', 'world', 'worries', 'woven'],\n",
              "      dtype=object)"
            ]
          },
          "metadata": {},
          "execution_count": 206
        }
      ]
    },
    {
      "cell_type": "code",
      "source": [
        "# Making a list with keywords and their values\n",
        "\n",
        "tfidf_list=list(zip(words,values))\n",
        "\n",
        "# Arranging them in descending order\n",
        "\n",
        "sorted_list=sorted(tfidf_list,key=lambda x :x[1],reverse=True)\n",
        "sorted_list"
      ],
      "metadata": {
        "colab": {
          "base_uri": "https://localhost:8080/"
        },
        "id": "6yEp9m_Z1B5D",
        "outputId": "536510f2-67ac-4c14-aae2-36e2618c511e"
      },
      "execution_count": null,
      "outputs": [
        {
          "output_type": "execute_result",
          "data": {
            "text/plain": [
              "[('life', 0.30539195913557254),\n",
              " ('day', 0.20359463942371506),\n",
              " ('sky', 0.20359463942371506),\n",
              " ('world', 0.20359463942371506),\n",
              " ('city', 0.15269597956778627),\n",
              " ('nature', 0.15269597956778627),\n",
              " ('new', 0.15269597956778627),\n",
              " ('stand', 0.15269597956778627),\n",
              " ('sun', 0.15269597956778627),\n",
              " ('air', 0.10179731971185753),\n",
              " ('beauty', 0.10179731971185753),\n",
              " ('blue', 0.10179731971185753),\n",
              " ('bustling', 0.10179731971185753),\n",
              " ('covered', 0.10179731971185753),\n",
              " ('heart', 0.10179731971185753),\n",
              " ('horizon', 0.10179731971185753),\n",
              " ('journey', 0.10179731971185753),\n",
              " ('light', 0.10179731971185753),\n",
              " ('quiet', 0.10179731971185753),\n",
              " ('reach', 0.10179731971185753),\n",
              " ('sea', 0.10179731971185753),\n",
              " ('streets', 0.10179731971185753),\n",
              " ('tapestry', 0.10179731971185753),\n",
              " ('thread', 0.10179731971185753),\n",
              " ('touch', 0.10179731971185753),\n",
              " ('tranquility', 0.10179731971185753),\n",
              " ('unfolds', 0.10179731971185753),\n",
              " ('vast', 0.10179731971185753),\n",
              " ('waves', 0.10179731971185753),\n",
              " ('wind', 0.10179731971185753),\n",
              " ('activity', 0.050898659855928764),\n",
              " ('adding', 0.050898659855928764),\n",
              " ('aged', 0.050898659855928764),\n",
              " ('alive', 0.050898659855928764),\n",
              " ('alleys', 0.050898659855928764),\n",
              " ('ancient', 0.050898659855928764),\n",
              " ('architectural', 0.050898659855928764),\n",
              " ('aspiration', 0.050898659855928764),\n",
              " ('awakens', 0.050898659855928764),\n",
              " ('away', 0.050898659855928764),\n",
              " ('bathing', 0.050898659855928764),\n",
              " ('beach', 0.050898659855928764),\n",
              " ('beautiful', 0.050898659855928764),\n",
              " ('beckon', 0.050898659855928764),\n",
              " ('beginning', 0.050898659855928764),\n",
              " ('birds', 0.050898659855928764),\n",
              " ('blanket', 0.050898659855928764),\n",
              " ('blend', 0.050898659855928764),\n",
              " ('breeze', 0.050898659855928764),\n",
              " ('bricks', 0.050898659855928764),\n",
              " ('bringing', 0.050898659855928764),\n",
              " ('buildings', 0.050898659855928764),\n",
              " ('buzz', 0.050898659855928764),\n",
              " ('canvas', 0.050898659855928764),\n",
              " ('carries', 0.050898659855928764),\n",
              " ('cars', 0.050898659855928764),\n",
              " ('casts', 0.050898659855928764),\n",
              " ('celestial', 0.050898659855928764),\n",
              " ('changing', 0.050898659855928764),\n",
              " ('charming', 0.050898659855928764),\n",
              " ('chatter', 0.050898659855928764),\n",
              " ('cherish', 0.050898659855928764),\n",
              " ('children', 0.050898659855928764),\n",
              " ('climbs', 0.050898659855928764),\n",
              " ('clouds', 0.050898659855928764),\n",
              " ('cobblestone', 0.050898659855928764),\n",
              " ('comes', 0.050898659855928764),\n",
              " ('community', 0.050898659855928764),\n",
              " ('contemplation', 0.050898659855928764),\n",
              " ('contrast', 0.050898659855928764),\n",
              " ('conversations', 0.050898659855928764),\n",
              " ('counts', 0.050898659855928764),\n",
              " ('couples', 0.050898659855928764),\n",
              " ('crash', 0.050898659855928764),\n",
              " ('create', 0.050898659855928764),\n",
              " ('crisp', 0.050898659855928764),\n",
              " ('daily', 0.050898659855928764),\n",
              " ('dance', 0.050898659855928764),\n",
              " ('different', 0.050898659855928764),\n",
              " ('display', 0.050898659855928764),\n",
              " ('edges', 0.050898659855928764),\n",
              " ('energy', 0.050898659855928764),\n",
              " ('excitement', 0.050898659855928764),\n",
              " ('expanse', 0.050898659855928764),\n",
              " ('extends', 0.050898659855928764),\n",
              " ('extraordinary', 0.050898659855928764),\n",
              " ('fast', 0.050898659855928764),\n",
              " ('fields', 0.050898659855928764),\n",
              " ('fills', 0.050898659855928764),\n",
              " ('fresh', 0.050898659855928764),\n",
              " ('future', 0.050898659855928764),\n",
              " ('gentle', 0.050898659855928764),\n",
              " ('glimpse', 0.050898659855928764),\n",
              " ('glow', 0.050898659855928764),\n",
              " ('green', 0.050898659855928764),\n",
              " ('harmonious', 0.050898659855928764),\n",
              " ('heavens', 0.050898659855928764),\n",
              " ('higher', 0.050898659855928764),\n",
              " ('hiking', 0.050898659855928764),\n",
              " ('history', 0.050898659855928764),\n",
              " ('holds', 0.050898659855928764),\n",
              " ('houses', 0.050898659855928764),\n",
              " ('human', 0.050898659855928764),\n",
              " ('ingenuity', 0.050898659855928764),\n",
              " ('intricate', 0.050898659855928764),\n",
              " ('invigorating', 0.050898659855928764),\n",
              " ('ivy', 0.050898659855928764),\n",
              " ('jogger', 0.050898659855928764),\n",
              " ('joy', 0.050898659855928764),\n",
              " ('landscape', 0.050898659855928764),\n",
              " ('laughter', 0.050898659855928764),\n",
              " ('leaves', 0.050898659855928764),\n",
              " ('let', 0.050898659855928764),\n",
              " ('lights', 0.050898659855928764),\n",
              " ('lullaby', 0.050898659855928764),\n",
              " ('lungs', 0.050898659855928764),\n",
              " ('majestic', 0.050898659855928764),\n",
              " ('marvels', 0.050898659855928764),\n",
              " ('meets', 0.050898659855928764),\n",
              " ('melodious', 0.050898659855928764),\n",
              " ('midst', 0.050898659855928764),\n",
              " ('modern', 0.050898659855928764),\n",
              " ('moment', 0.050898659855928764),\n",
              " ('moments', 0.050898659855928764),\n",
              " ('moon', 0.050898659855928764),\n",
              " ('morning', 0.050898659855928764),\n",
              " ('mountain', 0.050898659855928764),\n",
              " ('mountains', 0.050898659855928764),\n",
              " ('mysterious', 0.050898659855928764),\n",
              " ('narrow', 0.050898659855928764),\n",
              " ('natural', 0.050898659855928764),\n",
              " ('navigate', 0.050898659855928764),\n",
              " ('night', 0.050898659855928764),\n",
              " ('occasional', 0.050898659855928764),\n",
              " ('offer', 0.050898659855928764),\n",
              " ('offering', 0.050898659855928764),\n",
              " ('paced', 0.050898659855928764),\n",
              " ('painted', 0.050898659855928764),\n",
              " ('parks', 0.050898659855928764),\n",
              " ('passing', 0.050898659855928764),\n",
              " ('past', 0.050898659855928764),\n",
              " ('pattern', 0.050898659855928764),\n",
              " ('peaks', 0.050898659855928764),\n",
              " ('people', 0.050898659855928764),\n",
              " ('place', 0.050898659855928764),\n",
              " ('playing', 0.050898659855928764),\n",
              " ('potential', 0.050898659855928764),\n",
              " ('progress', 0.050898659855928764),\n",
              " ('promise', 0.050898659855928764),\n",
              " ('proud', 0.050898659855928764),\n",
              " ('quaint', 0.050898659855928764),\n",
              " ('rays', 0.050898659855928764),\n",
              " ('reminder', 0.050898659855928764),\n",
              " ('respite', 0.050898659855928764),\n",
              " ('rhythmic', 0.050898659855928764),\n",
              " ('rich', 0.050898659855928764),\n",
              " ('rises', 0.050898659855928764),\n",
              " ('routines', 0.050898659855928764),\n",
              " ('rustling', 0.050898659855928764),\n",
              " ('sanctuary', 0.050898659855928764),\n",
              " ('sand', 0.050898659855928764),\n",
              " ('sentinels', 0.050898659855928764),\n",
              " ('serene', 0.050898659855928764),\n",
              " ('shades', 0.050898659855928764),\n",
              " ('shore', 0.050898659855928764),\n",
              " ('silver', 0.050898659855928764),\n",
              " ('simpler', 0.050898659855928764),\n",
              " ('sing', 0.050898659855928764),\n",
              " ('skyscrapers', 0.050898659855928764),\n",
              " ('solace', 0.050898659855928764),\n",
              " ('songs', 0.050898659855928764),\n",
              " ('soothing', 0.050898659855928764),\n",
              " ('sorrow', 0.050898659855928764),\n",
              " ('sound', 0.050898659855928764),\n",
              " ('sounds', 0.050898659855928764),\n",
              " ('source', 0.050898659855928764),\n",
              " ('stars', 0.050898659855928764),\n",
              " ('start', 0.050898659855928764),\n",
              " ('story', 0.050898659855928764),\n",
              " ('stretch', 0.050898659855928764),\n",
              " ('structure', 0.050898659855928764),\n",
              " ('surrounds', 0.050898659855928764),\n",
              " ('symbol', 0.050898659855928764),\n",
              " ('symphony', 0.050898659855928764),\n",
              " ('tale', 0.050898659855928764),\n",
              " ('tall', 0.050898659855928764),\n",
              " ('tell', 0.050898659855928764),\n",
              " ('tells', 0.050898659855928764),\n",
              " ('testament', 0.050898659855928764),\n",
              " ('touching', 0.050898659855928764),\n",
              " ('towering', 0.050898659855928764),\n",
              " ('traditions', 0.050898659855928764),\n",
              " ('trails', 0.050898659855928764),\n",
              " ('trees', 0.050898659855928764),\n",
              " ('twinkling', 0.050898659855928764),\n",
              " ('universe', 0.050898659855928764),\n",
              " ('villages', 0.050898659855928764),\n",
              " ('vision', 0.050898659855928764),\n",
              " ('walls', 0.050898659855928764),\n",
              " ('whispers', 0.050898659855928764),\n",
              " ('wonder', 0.050898659855928764),\n",
              " ('worries', 0.050898659855928764),\n",
              " ('woven', 0.050898659855928764)]"
            ]
          },
          "metadata": {},
          "execution_count": 207
        }
      ]
    },
    {
      "cell_type": "code",
      "source": [
        "length=len(sorted_list)\n",
        "top_keywords=[]\n",
        "\n",
        "# Choosing number of top keywords\n",
        "for i in range(length // 20):\n",
        "   top_keywords.append(sorted_list[i][0])\n",
        "top_keywords"
      ],
      "metadata": {
        "colab": {
          "base_uri": "https://localhost:8080/"
        },
        "id": "pZST0zr28LVe",
        "outputId": "f2633a01-dec8-4290-a4da-482c2ce39b95"
      },
      "execution_count": null,
      "outputs": [
        {
          "output_type": "execute_result",
          "data": {
            "text/plain": [
              "['life', 'day', 'sky', 'world', 'city', 'nature', 'new', 'stand', 'sun', 'air']"
            ]
          },
          "metadata": {},
          "execution_count": 208
        }
      ]
    },
    {
      "cell_type": "code",
      "source": [
        "# Using nltk to tokenize sentences from the text\n",
        "sentences=nltk.sent_tokenize(text)\n",
        "sentences_keyword=[]"
      ],
      "metadata": {
        "id": "Ivo3bW-z4Bvg"
      },
      "execution_count": null,
      "outputs": []
    },
    {
      "cell_type": "code",
      "source": [
        "# Finding if the top keywords are present in sentence . If present add them to them empty list sentences_keyword.\n",
        "for i in sentences:\n",
        "      if any(keyword in i for keyword in top_keywords):\n",
        "          sentences_keyword.append(i)"
      ],
      "metadata": {
        "id": "GZyPtl_MAS59"
      },
      "execution_count": null,
      "outputs": []
    },
    {
      "cell_type": "code",
      "source": [
        "# Creating summary\n",
        "summary = ''.join(sentences_keyword)\n",
        "summary"
      ],
      "metadata": {
        "colab": {
          "base_uri": "https://localhost:8080/",
          "height": 192
        },
        "id": "Vhugnvv0BEwK",
        "outputId": "044f1bac-ce05-48e7-cbae-875f1e07d998"
      },
      "execution_count": null,
      "outputs": [
        {
          "output_type": "execute_result",
          "data": {
            "text/plain": [
              "\"the sun rises above the horizon, bringing a new day.the sky is painted with shades of blue as the day unfolds.nature awakens with the gentle touch of the sun's rays.trees stand tall and proud, their leaves rustling in the breeze.the air is fresh and invigorating, a promise of a new beginning.each day holds the potential for something extraordinary.as the sun climbs higher, the world comes alive with activity.the city streets buzz with the sounds of cars and chatter.life in the modern world is fast-paced and ever-changing.yet, in the midst of this bustling life, there is tranquility to be found.the laughter of children playing, the quiet conversations of couples, and the occasional jogger passing by create a harmonious blend of city life and nature.in the heart of the city, towering buildings reach for the sky.architectural marvels stand as a testament to human ingenuity.skyscrapers touch the clouds, a symbol of progress and aspiration.life here is simpler, yet rich in traditions and community.mountains reach towards the heavens, their peaks touching the sky.majestic and serene, they stand as ancient sentinels.the crisp mountain air fills the lungs, a reminder of the beauty of the natural world.hiking trails beckon, offering a journey into the heart of nature.and in the quiet of the night, the stars light up the sky.the moon casts its glow, bathing the world in silver light.life is a beautiful tapestry, woven with moments of joy and sorrow, tranquility and excitement.each day is a new thread, adding to the intricate pattern.and as we navigate this journey, let us cherish the beauty that surrounds us, for in the tapestry of life, every thread counts.\""
            ],
            "application/vnd.google.colaboratory.intrinsic+json": {
              "type": "string"
            }
          },
          "metadata": {},
          "execution_count": 211
        }
      ]
    },
    {
      "cell_type": "markdown",
      "source": [
        "Problems with this approach:\n",
        "\n",
        "Does not work well with small sample size of text.\n",
        "If a key word is repeated a lot times in the sample, the sentences which are irrelevant but consist the keyword are also chosen .\n",
        "The number of keywords to be chosen for a text is completely experimental.\n",
        "(for example if the sample has 1000 words number of keywords could be different than those of sample of 500 words)"
      ],
      "metadata": {
        "id": "f5brwQ4VUId7"
      }
    }
  ]
}